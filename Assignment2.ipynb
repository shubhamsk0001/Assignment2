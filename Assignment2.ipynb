{
 "cells": [
  {
   "cell_type": "code",
   "execution_count": null,
   "id": "4bc684ad",
   "metadata": {},
   "outputs": [],
   "source": [
    "1.What are the two values of the Boolean data type? How do you write them?"
   ]
  },
  {
   "cell_type": "code",
   "execution_count": null,
   "id": "7bf6b2f6",
   "metadata": {},
   "outputs": [],
   "source": [
    "The two values of the Boolean data type are:-\n",
    "1. True\n",
    "2. False\n",
    "We write them using the values of 0 and 1.\n",
    "Here 0 means False\n",
    "and 1 means True"
   ]
  },
  {
   "cell_type": "code",
   "execution_count": null,
   "id": "738faf61",
   "metadata": {},
   "outputs": [],
   "source": [
    "2. What are the three different types of Boolean operators?"
   ]
  },
  {
   "cell_type": "code",
   "execution_count": null,
   "id": "c924b427",
   "metadata": {},
   "outputs": [],
   "source": [
    "Three different types of Boolean Operators are:-\n",
    "1 And operator - It will provide true if all the conditions are true.\n",
    "2 Or operator- It will provide true if any of the conditions is true.\n",
    "3 Not operator-It will just reverse the result given in the condition."
   ]
  },
  {
   "cell_type": "code",
   "execution_count": null,
   "id": "deefc541",
   "metadata": {},
   "outputs": [],
   "source": [
    "3. Make a list of each Boolean operators truth tables (i.e. every possible combination of Boolean\n",
    "values for the operator and what it evaluate )."
   ]
  },
  {
   "cell_type": "code",
   "execution_count": null,
   "id": "8a93c54d",
   "metadata": {},
   "outputs": [],
   "source": [
    "AND Truth Table:-\n",
    "x\tand\t y\tReturns\n",
    "x\t    and\t  y\t    Returns\n",
    "True\tand\t True\tTrue\n",
    "True\tand\tFalse\tFalse\n",
    "False\tand\tTrue\tFalse\n",
    "False\tand\tFalse\tFalse\n",
    "OR Truth Table:-\n",
    "x\t    or   y\t    Returns\n",
    "True\tor\t True\tTrue\n",
    "True\tor\tFalse\tFalse\n",
    "False\tor\tTrue\tFalse\n",
    "False\tor\tFalse\tFalse\t \n",
    "NOT Truth Table\n",
    "not\t x\tReturns\n",
    "not\tTrue\tFalse\n",
    "not\tFalse\tTrue"
   ]
  },
  {
   "cell_type": "code",
   "execution_count": null,
   "id": "df29071c",
   "metadata": {},
   "outputs": [],
   "source": [
    "4. What are the values of the following expressions?"
   ]
  },
  {
   "cell_type": "code",
   "execution_count": 1,
   "id": "bb334bce",
   "metadata": {},
   "outputs": [
    {
     "data": {
      "text/plain": [
       "False"
      ]
     },
     "execution_count": 1,
     "metadata": {},
     "output_type": "execute_result"
    }
   ],
   "source": [
    "(5 > 4) and (3 == 5)"
   ]
  },
  {
   "cell_type": "code",
   "execution_count": 2,
   "id": "8bc2c65c",
   "metadata": {},
   "outputs": [
    {
     "data": {
      "text/plain": [
       "False"
      ]
     },
     "execution_count": 2,
     "metadata": {},
     "output_type": "execute_result"
    }
   ],
   "source": [
    "not (5 > 4)"
   ]
  },
  {
   "cell_type": "code",
   "execution_count": 3,
   "id": "4f2b25b5",
   "metadata": {},
   "outputs": [
    {
     "data": {
      "text/plain": [
       "True"
      ]
     },
     "execution_count": 3,
     "metadata": {},
     "output_type": "execute_result"
    }
   ],
   "source": [
    "(5 > 4) or (3 == 5)"
   ]
  },
  {
   "cell_type": "code",
   "execution_count": 4,
   "id": "a40c5ec9",
   "metadata": {},
   "outputs": [
    {
     "data": {
      "text/plain": [
       "False"
      ]
     },
     "execution_count": 4,
     "metadata": {},
     "output_type": "execute_result"
    }
   ],
   "source": [
    "not ((5 > 4) or (3 == 5))"
   ]
  },
  {
   "cell_type": "code",
   "execution_count": 5,
   "id": "0eaf9e88",
   "metadata": {},
   "outputs": [
    {
     "data": {
      "text/plain": [
       "False"
      ]
     },
     "execution_count": 5,
     "metadata": {},
     "output_type": "execute_result"
    }
   ],
   "source": [
    "(True and True) and (True == False)"
   ]
  },
  {
   "cell_type": "code",
   "execution_count": 6,
   "id": "0aa034f9",
   "metadata": {},
   "outputs": [
    {
     "data": {
      "text/plain": [
       "True"
      ]
     },
     "execution_count": 6,
     "metadata": {},
     "output_type": "execute_result"
    }
   ],
   "source": [
    "(not False) or (not True)"
   ]
  },
  {
   "cell_type": "code",
   "execution_count": null,
   "id": "3c435b61",
   "metadata": {},
   "outputs": [],
   "source": [
    "5. What are the six comparison operators?"
   ]
  },
  {
   "cell_type": "code",
   "execution_count": null,
   "id": "92aea188",
   "metadata": {},
   "outputs": [],
   "source": [
    "The six comparison operators:-\n",
    "less than ( < ) \n",
    "less than or equal to ( <= ) \n",
    "greater than ( > )\n",
    "greater than or equal to ( >= )\n",
    "equal to ( == )\n",
    "and not equal to ( != )"
   ]
  },
  {
   "cell_type": "code",
   "execution_count": null,
   "id": "0143809b",
   "metadata": {},
   "outputs": [],
   "source": [
    "6. How do you tell the difference between the equal to and assignment operators?Describe a condition and \n",
    "when you would use one."
   ]
  },
  {
   "cell_type": "code",
   "execution_count": null,
   "id": "626aa950",
   "metadata": {},
   "outputs": [],
   "source": [
    "The difference between = (Assignment) and == (Equal to) operators. \n",
    "The “=” is an assignment operator is used to assign the value on the right to the variable on the left. \n",
    "The '==' operator checks whether the two given operands are equal or not. If so, it returns true.\n",
    "The condition \n",
    "a=6\n",
    "b=6\n",
    "The above two statement we assign value to a and b respectively.\n",
    "and a==b\n",
    "The above statement check if a equal to b.Since both value are equal, therfore return true as output."
   ]
  },
  {
   "cell_type": "code",
   "execution_count": null,
   "id": "68f8d3b8",
   "metadata": {},
   "outputs": [],
   "source": [
    "7. Identify the three blocks in this code:\n",
    "spam = 0\n",
    "if spam == 10:\n",
    "    print('eggs')\n",
    "if spam > 5:\n",
    "    print('bacon')\n",
    "else:\n",
    "    print('ham')\n",
    "    print('spam')\n",
    "    print('spam')"
   ]
  },
  {
   "cell_type": "code",
   "execution_count": null,
   "id": "6e74b173",
   "metadata": {},
   "outputs": [],
   "source": [
    "The three blocks in this code:-\n",
    "First block is when value of spam is 10. Then the output is eggs.\n",
    "Second block is when value of spam is greater than 5.Then the output is bacon.\n",
    "Third block is when value of spam is lesser than 5.Then the output is ham in 1 line and spam in 2 and 3 line."
   ]
  },
  {
   "cell_type": "code",
   "execution_count": null,
   "id": "26fea53d",
   "metadata": {},
   "outputs": [],
   "source": [
    "8. Write code that prints Hello if 1 is stored in spam, prints Howdy if 2 is stored in spam, and prints\n",
    "Greetings! if anything else is stored in spam."
   ]
  },
  {
   "cell_type": "code",
   "execution_count": 7,
   "id": "99cdbc7e",
   "metadata": {},
   "outputs": [
    {
     "name": "stdout",
     "output_type": "stream",
     "text": [
      "Enter a no:5\n",
      "Greetings!\n"
     ]
    }
   ],
   "source": [
    "spam=int(input(\"Enter a no:\"))\n",
    "if spam==1:\n",
    "    print('Hello')\n",
    "elif spam==2:\n",
    "    print('Howdy')\n",
    "else:\n",
    "    print('Greetings!')"
   ]
  },
  {
   "cell_type": "code",
   "execution_count": null,
   "id": "a8a382fd",
   "metadata": {},
   "outputs": [],
   "source": [
    "9.If your programme is stuck in an endless loop, what keys you’ll press?"
   ]
  },
  {
   "cell_type": "code",
   "execution_count": null,
   "id": "06b69f2e",
   "metadata": {},
   "outputs": [],
   "source": [
    "An infinite or endless loop is a loop that runs indefinitely and it only stops with external intervention \n",
    "or when a break statement is found. \n",
    "One can even stop an infinite loop with CTRL + C."
   ]
  },
  {
   "cell_type": "code",
   "execution_count": null,
   "id": "0c04dfe2",
   "metadata": {},
   "outputs": [],
   "source": [
    "10. How can you tell the difference between break and continue?"
   ]
  },
  {
   "cell_type": "code",
   "execution_count": null,
   "id": "73fbf6ca",
   "metadata": {},
   "outputs": [],
   "source": [
    "In the break statement, the control exits from the loop.\n",
    "whereas\n",
    "In the continue statement, the control remains within the loop.\n",
    "break statement  is used to stop the execution of the loop at a specific condition.\n",
    "whereas\n",
    "continue statement is used to skip a particular iteration of the loop."
   ]
  },
  {
   "cell_type": "code",
   "execution_count": null,
   "id": "6cc5bfff",
   "metadata": {},
   "outputs": [],
   "source": [
    "11. In a for loop, what is the difference between range(10), range(0, 10), and range(0, 10, 1)?"
   ]
  },
  {
   "cell_type": "code",
   "execution_count": null,
   "id": "04c14619",
   "metadata": {},
   "outputs": [],
   "source": [
    "The difference the three is\n",
    "In range(10): -we did not specify the starting point and steps.\n",
    "In range(0,10):- we did not specify the steps.\n",
    "In range(0,10,1):-we specified both starting point and steps."
   ]
  },
  {
   "cell_type": "code",
   "execution_count": null,
   "id": "7fad2409",
   "metadata": {},
   "outputs": [],
   "source": [
    "12. Write a short program that prints the numbers 1 to 10 using a for loop. Then write an equivalent\n",
    "program that prints the numbers 1 to 10 using a while loop."
   ]
  },
  {
   "cell_type": "code",
   "execution_count": 8,
   "id": "ec50ca38",
   "metadata": {},
   "outputs": [
    {
     "name": "stdout",
     "output_type": "stream",
     "text": [
      "1\n",
      "2\n",
      "3\n",
      "4\n",
      "5\n",
      "6\n",
      "7\n",
      "8\n",
      "9\n",
      "10\n"
     ]
    }
   ],
   "source": [
    "\"USING FOR LOOP\"\n",
    "for i in range(1,11,1):\n",
    "    print(i)"
   ]
  },
  {
   "cell_type": "code",
   "execution_count": 15,
   "id": "8264f1c6",
   "metadata": {},
   "outputs": [
    {
     "name": "stdout",
     "output_type": "stream",
     "text": [
      "1\n",
      "2\n",
      "3\n",
      "4\n",
      "5\n",
      "6\n",
      "7\n",
      "8\n",
      "9\n",
      "10\n"
     ]
    }
   ],
   "source": [
    "\"USING WHILE LOOP\"\n",
    "i=1\n",
    "while(i<=10):\n",
    "    print(i)\n",
    "    i=i+1"
   ]
  },
  {
   "cell_type": "code",
   "execution_count": null,
   "id": "ad1c4456",
   "metadata": {},
   "outputs": [],
   "source": [
    "13. If you had a function named bacon() inside a module named spam, how would you call it after\n",
    "importing spam?"
   ]
  },
  {
   "cell_type": "code",
   "execution_count": null,
   "id": "7611b3ee",
   "metadata": {},
   "outputs": [],
   "source": [
    "After importing spam we can call the function bacon by adding the braces().And inside the braces we provide the variable\n",
    "with value if required."
   ]
  }
 ],
 "metadata": {
  "kernelspec": {
   "display_name": "Python 3 (ipykernel)",
   "language": "python",
   "name": "python3"
  },
  "language_info": {
   "codemirror_mode": {
    "name": "ipython",
    "version": 3
   },
   "file_extension": ".py",
   "mimetype": "text/x-python",
   "name": "python",
   "nbconvert_exporter": "python",
   "pygments_lexer": "ipython3",
   "version": "3.9.12"
  }
 },
 "nbformat": 4,
 "nbformat_minor": 5
}
